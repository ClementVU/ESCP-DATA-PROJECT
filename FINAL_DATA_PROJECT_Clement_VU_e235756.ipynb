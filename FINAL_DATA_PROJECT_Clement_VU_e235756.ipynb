{
 "cells": [
  {
   "cell_type": "markdown",
   "metadata": {},
   "source": [
    "<center>\n",
    "\n",
    "# Final Data Project Clément VU e235756\n",
    "\n",
    "</center>\n"
   ]
  },
  {
   "cell_type": "markdown",
   "metadata": {},
   "source": [
    "#### *For this project, after cleaning up the data, I decided to work on the questions that would guide us during the project. I then proposed a success story, focusing on two companies that have succeeded in different ways, and highlighting the analyses we had carried out beforehand*\n",
    "#### *In addition, I used VisualStudioCode (VSC) as source code editor to get closer to a working environment that could potentially await us in the future.  So it's possible that the interface and display of my jpnyb may change.*\n"
   ]
  },
  {
   "cell_type": "markdown",
   "metadata": {},
   "source": [
    "#### *Problematic guideline :*\n",
    "0. Data cleaning\n",
    "1. Compare the revenue range of companies for every size of company (per employee) ?\n",
    "2. In average, what type of company (category of company) is the most valuable ?\n",
    "3. Which company has the largest number of acquisitions?\n",
    "4. Which type of funding need the most money to be raised\n",
    "5. How many companies have received at least one round of investment?\n",
    "6. Which Company has the `most money_raised thanks to investment\n",
    "7. What is the Investment the most valuable ?\n",
    "8. Which type of funding is the most used nowaday\n",
    "9. Which company cquired the most and for how much\n",
    "10. Which of these companies have CEOs graduated from a top school?\n",
    "11. Story\n"
   ]
  },
  {
   "cell_type": "code",
   "execution_count": 1,
   "metadata": {},
   "outputs": [
    {
     "name": "stderr",
     "output_type": "stream",
     "text": [
      "C:\\Users\\clmen\\AppData\\Local\\Packages\\PythonSoftwareFoundation.Python.3.10_qbz5n2kfra8p0\\LocalCache\\local-packages\\Python310\\site-packages\\fuzzywuzzy\\fuzz.py:11: UserWarning: Using slow pure-python SequenceMatcher. Install python-Levenshtein to remove this warning\n",
      "  warnings.warn('Using slow pure-python SequenceMatcher. Install python-Levenshtein to remove this warning')\n"
     ]
    }
   ],
   "source": [
    "import numpy as np\n",
    "import pandas as pd\n",
    "import matplotlib.pyplot as plt\n",
    "import seaborn as sns\n",
    "from fuzzywuzzy import process\n",
    "from forex_python.converter import CurrencyRates   "
   ]
  },
  {
   "cell_type": "code",
   "execution_count": 2,
   "metadata": {},
   "outputs": [],
   "source": [
    "df_company = pd.read_excel(\"2324MBD41_Project_Dataset.xlsx\", sheet_name=\"COMPANY\")\n",
    "df_investment = pd.read_excel(\"2324MBD41_Project_Dataset.xlsx\", sheet_name=\"INVESTMENT\")\n",
    "df_acquisition = pd.read_excel(\"2324MBD41_Project_Dataset.xlsx\", sheet_name=\"ACQUISITION\")\n",
    "df_employee = pd.read_excel(\"2324MBD41_Project_Dataset.xlsx\", sheet_name=\"EMPLOYEE\")"
   ]
  },
  {
   "cell_type": "markdown",
   "metadata": {
    "jp-MarkdownHeadingCollapsed": true
   },
   "source": [
    "\n",
    "## 0. `Data Cleaning`"
   ]
  },
  {
   "cell_type": "code",
   "execution_count": 3,
   "metadata": {},
   "outputs": [],
   "source": [
    "import re\n",
    "\n",
    "def remove_numbers(input_string): # function using a regex to only retrieve the currency sign\n",
    "    return re.sub(r'\\d+', '', input_string).replace(\",\", \"\") # First we remove all the numbers and we remove the trailing \",\"\n"
   ]
  },
  {
   "cell_type": "markdown",
   "metadata": {},
   "source": [
    "##### To work with the `convert function based to the API forex python`, we need to work with numbers with the format 10000000 and not $10000000"
   ]
  },
  {
   "cell_type": "code",
   "execution_count": 4,
   "metadata": {},
   "outputs": [
    {
     "data": {
      "text/plain": [
       "array(['$', '€', '¥', '₹', '£', 'CA$', 'A$', 'CN¥', 'R$', 'ZAR', 'SGD',\n",
       "       '₩', 'CHF', 'MYR', 'SEK', 'RUB'], dtype=object)"
      ]
     },
     "execution_count": 4,
     "metadata": {},
     "output_type": "execute_result"
    }
   ],
   "source": [
    "#GROUPBY the column money_raised with the \"$xxxxxx\"\n",
    "df_investment[\"Currency\"] = df_investment[\"MONEY_RAISED\"].apply(remove_numbers) # apply remove numbers function to get only the currency\n",
    "df_investment = df_investment[df_investment.Currency != \"—\"] # remove the line where we do not have \"-\"\n",
    "df_investment[\"Currency\"].unique()"
   ]
  },
  {
   "cell_type": "markdown",
   "metadata": {},
   "source": [
    "##### Check all `type of curencies` on the column df_investment[\"MONEY_RAISED] and the column df_acquisition\n"
   ]
  },
  {
   "cell_type": "code",
   "execution_count": 5,
   "metadata": {},
   "outputs": [],
   "source": [
    "currency_map = {\n",
    "    '$': \"USD\",\n",
    "    '€': \"EUR\",\n",
    "    '¥': \"JPY\",\n",
    "    '₹': \"INR\",\n",
    "    '£': \"GBP\",\n",
    "    'CA$': \"CAD\",\n",
    "    'A$': \"AUD\",\n",
    "    'CN¥': \"CNY\",\n",
    "    'R$': \"BRL\",\n",
    "    'ZAR': \"ZAR\",\n",
    "    'SGD': \"SGD\",\n",
    "    '₩': \"KRW\",\n",
    "    'CHF': \"CHF\",\n",
    "    'MYR': \"MYR\",\n",
    "    'SEK': \"SEK\",\n",
    "    'RUB': \"RUB\",\n",
    "    'DKK': \"DKK\"\n",
    "}\n",
    "\n",
    "converter = CurrencyRates() # using forex package to get the rates of each currency\n",
    "converter.get_rates('USD')\n",
    "\n",
    "rates = {}\n",
    "\n",
    "for cm in currency_map:\n",
    "    if cm != \"$\": # We don't need to get the rate for dollars as it is our target\n",
    "        rates[cm] = converter.get_rate(currency_map[cm], 'USD') # using the currency as the key and the rate as the value \n",
    "\n",
    "\n"
   ]
  },
  {
   "cell_type": "markdown",
   "metadata": {},
   "source": [
    "##### `Clean` the column MONEY_RAISED and `create` another column named MONEY RAISED CONVERTED that we will use after "
   ]
  },
  {
   "cell_type": "code",
   "execution_count": 6,
   "metadata": {},
   "outputs": [],
   "source": [
    "def convert_currency(row):\n",
    "    if row[\"Currency\"] == \"$\":\n",
    "        return float(row[\"MONEY_RAISED\"].replace(\"$\", '').replace(',', ''))\n",
    "    currency = row[\"Currency\"]\n",
    "    amount = row[\"MONEY_RAISED\"]\n",
    "    currency_rate = rates[currency]\n",
    "    return float(amount.replace(currency, '').replace(',', '')) * currency_rate\n",
    "df_investment['MONEY_RAISED_CONVERTED'] = df_investment.apply(convert_currency, axis=1)"
   ]
  },
  {
   "cell_type": "code",
   "execution_count": 7,
   "metadata": {},
   "outputs": [
    {
     "data": {
      "text/html": [
       "<div>\n",
       "<style scoped>\n",
       "    .dataframe tbody tr th:only-of-type {\n",
       "        vertical-align: middle;\n",
       "    }\n",
       "\n",
       "    .dataframe tbody tr th {\n",
       "        vertical-align: top;\n",
       "    }\n",
       "\n",
       "    .dataframe thead th {\n",
       "        text-align: right;\n",
       "    }\n",
       "</style>\n",
       "<table border=\"1\" class=\"dataframe\">\n",
       "  <thead>\n",
       "    <tr style=\"text-align: right;\">\n",
       "      <th></th>\n",
       "      <th>COMPANY_NAME</th>\n",
       "      <th>FUNDING_TYPE</th>\n",
       "      <th>MONEY_RAISED</th>\n",
       "      <th>ANNOUNCED_DATE</th>\n",
       "      <th>INVESTMENT_STAGE</th>\n",
       "      <th>Currency</th>\n",
       "      <th>MONEY_RAISED_CONVERTED</th>\n",
       "    </tr>\n",
       "  </thead>\n",
       "  <tbody>\n",
       "    <tr>\n",
       "      <th>0</th>\n",
       "      <td>Pipe</td>\n",
       "      <td>Venture - Series Unknown</td>\n",
       "      <td>$250,000,000</td>\n",
       "      <td>Mar 31, 2021</td>\n",
       "      <td>—</td>\n",
       "      <td>$</td>\n",
       "      <td>250000000</td>\n",
       "    </tr>\n",
       "    <tr>\n",
       "      <th>1</th>\n",
       "      <td>Pipe</td>\n",
       "      <td>Series A</td>\n",
       "      <td>$50,000,000</td>\n",
       "      <td>Mar 9, 2021</td>\n",
       "      <td>Early Stage Venture</td>\n",
       "      <td>$</td>\n",
       "      <td>50000000</td>\n",
       "    </tr>\n",
       "    <tr>\n",
       "      <th>2</th>\n",
       "      <td>Pipe</td>\n",
       "      <td>Seed</td>\n",
       "      <td>$6,000,000</td>\n",
       "      <td>Feb 25, 2020</td>\n",
       "      <td>Seed</td>\n",
       "      <td>$</td>\n",
       "      <td>6000000</td>\n",
       "    </tr>\n",
       "    <tr>\n",
       "      <th>3</th>\n",
       "      <td>Pipe</td>\n",
       "      <td>Seed</td>\n",
       "      <td>$10,000,000</td>\n",
       "      <td>Jun 24, 2020</td>\n",
       "      <td>Seed</td>\n",
       "      <td>$</td>\n",
       "      <td>10000000</td>\n",
       "    </tr>\n",
       "    <tr>\n",
       "      <th>4</th>\n",
       "      <td>Epic Games</td>\n",
       "      <td>Seed</td>\n",
       "      <td>$1,000,000,000</td>\n",
       "      <td>Apr 13, 2021</td>\n",
       "      <td>Seed</td>\n",
       "      <td>$</td>\n",
       "      <td>1000000000</td>\n",
       "    </tr>\n",
       "    <tr>\n",
       "      <th>...</th>\n",
       "      <td>...</td>\n",
       "      <td>...</td>\n",
       "      <td>...</td>\n",
       "      <td>...</td>\n",
       "      <td>...</td>\n",
       "      <td>...</td>\n",
       "      <td>...</td>\n",
       "    </tr>\n",
       "    <tr>\n",
       "      <th>5930</th>\n",
       "      <td>MDC Partners</td>\n",
       "      <td>Post-IPO Equity</td>\n",
       "      <td>$95,000,000</td>\n",
       "      <td>Feb 15, 2017</td>\n",
       "      <td>—</td>\n",
       "      <td>$</td>\n",
       "      <td>95000000</td>\n",
       "    </tr>\n",
       "    <tr>\n",
       "      <th>5931</th>\n",
       "      <td>QueQ</td>\n",
       "      <td>Series A</td>\n",
       "      <td>$2,800,000</td>\n",
       "      <td>Mar 29, 2019</td>\n",
       "      <td>Early Stage Venture</td>\n",
       "      <td>$</td>\n",
       "      <td>2800000</td>\n",
       "    </tr>\n",
       "    <tr>\n",
       "      <th>5932</th>\n",
       "      <td>PTC</td>\n",
       "      <td>Post-IPO Equity</td>\n",
       "      <td>$1,000,000,000</td>\n",
       "      <td>Jun 11, 2018</td>\n",
       "      <td>—</td>\n",
       "      <td>$</td>\n",
       "      <td>1000000000</td>\n",
       "    </tr>\n",
       "    <tr>\n",
       "      <th>5933</th>\n",
       "      <td>Berkshire Hathaway</td>\n",
       "      <td>Post-IPO Equity</td>\n",
       "      <td>$3,510,000</td>\n",
       "      <td>Aug 15, 2019</td>\n",
       "      <td>—</td>\n",
       "      <td>$</td>\n",
       "      <td>3510000</td>\n",
       "    </tr>\n",
       "    <tr>\n",
       "      <th>5936</th>\n",
       "      <td>Merck</td>\n",
       "      <td>Venture - Series Unknown</td>\n",
       "      <td>$5,000,000</td>\n",
       "      <td>Jan 21, 2016</td>\n",
       "      <td>—</td>\n",
       "      <td>$</td>\n",
       "      <td>5000000</td>\n",
       "    </tr>\n",
       "  </tbody>\n",
       "</table>\n",
       "<p>4909 rows × 7 columns</p>\n",
       "</div>"
      ],
      "text/plain": [
       "            COMPANY_NAME              FUNDING_TYPE    MONEY_RAISED  \\\n",
       "0                   Pipe  Venture - Series Unknown    $250,000,000   \n",
       "1                   Pipe                  Series A     $50,000,000   \n",
       "2                   Pipe                      Seed      $6,000,000   \n",
       "3                   Pipe                      Seed     $10,000,000   \n",
       "4             Epic Games                      Seed  $1,000,000,000   \n",
       "...                  ...                       ...             ...   \n",
       "5930        MDC Partners           Post-IPO Equity     $95,000,000   \n",
       "5931                QueQ                  Series A      $2,800,000   \n",
       "5932                 PTC           Post-IPO Equity  $1,000,000,000   \n",
       "5933  Berkshire Hathaway           Post-IPO Equity      $3,510,000   \n",
       "5936               Merck  Venture - Series Unknown      $5,000,000   \n",
       "\n",
       "     ANNOUNCED_DATE     INVESTMENT_STAGE Currency  MONEY_RAISED_CONVERTED  \n",
       "0      Mar 31, 2021                    —        $               250000000  \n",
       "1       Mar 9, 2021  Early Stage Venture        $                50000000  \n",
       "2      Feb 25, 2020                 Seed        $                 6000000  \n",
       "3      Jun 24, 2020                 Seed        $                10000000  \n",
       "4      Apr 13, 2021                 Seed        $              1000000000  \n",
       "...             ...                  ...      ...                     ...  \n",
       "5930   Feb 15, 2017                    —        $                95000000  \n",
       "5931   Mar 29, 2019  Early Stage Venture        $                 2800000  \n",
       "5932   Jun 11, 2018                    —        $              1000000000  \n",
       "5933   Aug 15, 2019                    —        $                 3510000  \n",
       "5936   Jan 21, 2016                    —        $                 5000000  \n",
       "\n",
       "[4909 rows x 7 columns]"
      ]
     },
     "metadata": {},
     "output_type": "display_data"
    },
    {
     "name": "stdout",
     "output_type": "stream",
     "text": [
      "COMPANY_NAME                          Picnic\n",
      "FUNDING_TYPE                        Series C\n",
      "MONEY_RAISED                    €200,000,000\n",
      "ANNOUNCED_DATE                  Nov 28, 2019\n",
      "INVESTMENT_STAGE          Late Stage Venture\n",
      "Currency                                   €\n",
      "MONEY_RAISED_CONVERTED             213400000\n",
      "Name: 388, dtype: object\n"
     ]
    }
   ],
   "source": [
    "pd.options.display.float_format = '{:.0f}'.format\n",
    "display(df_investment)\n",
    "print(df_investment.loc[388])"
   ]
  },
  {
   "cell_type": "code",
   "execution_count": 8,
   "metadata": {},
   "outputs": [
    {
     "data": {
      "text/plain": [
       "array(['$', '€', '£', 'A$', 'CA$', 'DKK', 'CHF', 'RUB', '₹', 'CN¥', 'R$',\n",
       "       'SEK'], dtype=object)"
      ]
     },
     "execution_count": 8,
     "metadata": {},
     "output_type": "execute_result"
    }
   ],
   "source": [
    "#GROUPBY the column money_raised with the \"$xxxxxx\"\n",
    "df_acquisition[\"Currency\"] = df_acquisition[\"PRICE\"].apply(remove_numbers) # apply remove numbers function to get only the currency\n",
    "df_acquisition = df_acquisition[df_acquisition.Currency != \"—\"] # remove the line where we do not have \"-\"\n",
    "df_acquisition[\"Currency\"].unique()"
   ]
  },
  {
   "cell_type": "markdown",
   "metadata": {},
   "source": [
    "##### Here is the Df with the column`price_converted`"
   ]
  },
  {
   "cell_type": "code",
   "execution_count": 9,
   "metadata": {},
   "outputs": [
    {
     "data": {
      "text/html": [
       "<div>\n",
       "<style scoped>\n",
       "    .dataframe tbody tr th:only-of-type {\n",
       "        vertical-align: middle;\n",
       "    }\n",
       "\n",
       "    .dataframe tbody tr th {\n",
       "        vertical-align: top;\n",
       "    }\n",
       "\n",
       "    .dataframe thead th {\n",
       "        text-align: right;\n",
       "    }\n",
       "</style>\n",
       "<table border=\"1\" class=\"dataframe\">\n",
       "  <thead>\n",
       "    <tr style=\"text-align: right;\">\n",
       "      <th></th>\n",
       "      <th>COMPANY_NAME</th>\n",
       "      <th>ACQUIREE_NAME</th>\n",
       "      <th>ANNOUNCED_DATE</th>\n",
       "      <th>PRICE</th>\n",
       "      <th>ACQUISITION_TYPE</th>\n",
       "      <th>Currency</th>\n",
       "      <th>PRICE_CONVERTED</th>\n",
       "    </tr>\n",
       "  </thead>\n",
       "  <tbody>\n",
       "    <tr>\n",
       "      <th>1064</th>\n",
       "      <td>EQT</td>\n",
       "      <td>Alta Resources</td>\n",
       "      <td>May 6, 2021</td>\n",
       "      <td>$2,930,000,000</td>\n",
       "      <td>Acquisition</td>\n",
       "      <td>$</td>\n",
       "      <td>2930000000</td>\n",
       "    </tr>\n",
       "    <tr>\n",
       "      <th>1074</th>\n",
       "      <td>EQT</td>\n",
       "      <td>idealista.com</td>\n",
       "      <td>Sep 10, 2020</td>\n",
       "      <td>€1,300,000,000</td>\n",
       "      <td>Acquisition</td>\n",
       "      <td>€</td>\n",
       "      <td>1387100000</td>\n",
       "    </tr>\n",
       "    <tr>\n",
       "      <th>1092</th>\n",
       "      <td>EQT</td>\n",
       "      <td>Kuoni Reisen Holding</td>\n",
       "      <td>Feb 2, 2016</td>\n",
       "      <td>$1,400,000,000</td>\n",
       "      <td>Acquisition</td>\n",
       "      <td>$</td>\n",
       "      <td>1400000000</td>\n",
       "    </tr>\n",
       "    <tr>\n",
       "      <th>1095</th>\n",
       "      <td>EQT</td>\n",
       "      <td>Lumos Networks Corporation</td>\n",
       "      <td>Feb 21, 2017</td>\n",
       "      <td>$950,000,000</td>\n",
       "      <td>Acquisition</td>\n",
       "      <td>$</td>\n",
       "      <td>950000000</td>\n",
       "    </tr>\n",
       "    <tr>\n",
       "      <th>1099</th>\n",
       "      <td>EQT</td>\n",
       "      <td>Rice Energy</td>\n",
       "      <td>Jun 19, 2017</td>\n",
       "      <td>$6,700,000,000</td>\n",
       "      <td>Acquisition</td>\n",
       "      <td>$</td>\n",
       "      <td>6700000000</td>\n",
       "    </tr>\n",
       "    <tr>\n",
       "      <th>1104</th>\n",
       "      <td>EQT</td>\n",
       "      <td>Waystar</td>\n",
       "      <td>Jul 29, 2019</td>\n",
       "      <td>$2,700,000,000</td>\n",
       "      <td>Leveraged Buyout</td>\n",
       "      <td>$</td>\n",
       "      <td>2700000000</td>\n",
       "    </tr>\n",
       "    <tr>\n",
       "      <th>1110</th>\n",
       "      <td>EQT</td>\n",
       "      <td>ISS</td>\n",
       "      <td>Mar 29, 2005</td>\n",
       "      <td>DKK22,000,000,000</td>\n",
       "      <td>Leveraged Buyout</td>\n",
       "      <td>DKK</td>\n",
       "      <td>3146733156</td>\n",
       "    </tr>\n",
       "  </tbody>\n",
       "</table>\n",
       "</div>"
      ],
      "text/plain": [
       "     COMPANY_NAME               ACQUIREE_NAME ANNOUNCED_DATE  \\\n",
       "1064          EQT              Alta Resources    May 6, 2021   \n",
       "1074          EQT               idealista.com   Sep 10, 2020   \n",
       "1092          EQT        Kuoni Reisen Holding    Feb 2, 2016   \n",
       "1095          EQT  Lumos Networks Corporation   Feb 21, 2017   \n",
       "1099          EQT                 Rice Energy   Jun 19, 2017   \n",
       "1104          EQT                     Waystar   Jul 29, 2019   \n",
       "1110          EQT                         ISS   Mar 29, 2005   \n",
       "\n",
       "                  PRICE  ACQUISITION_TYPE Currency  PRICE_CONVERTED  \n",
       "1064     $2,930,000,000       Acquisition        $       2930000000  \n",
       "1074     €1,300,000,000       Acquisition        €       1387100000  \n",
       "1092     $1,400,000,000       Acquisition        $       1400000000  \n",
       "1095       $950,000,000       Acquisition        $        950000000  \n",
       "1099     $6,700,000,000       Acquisition        $       6700000000  \n",
       "1104     $2,700,000,000  Leveraged Buyout        $       2700000000  \n",
       "1110  DKK22,000,000,000  Leveraged Buyout      DKK       3146733156  "
      ]
     },
     "execution_count": 9,
     "metadata": {},
     "output_type": "execute_result"
    }
   ],
   "source": [
    "import traceback\n",
    "\n",
    "def convert_current_acquisition(row):\n",
    "    # try:\n",
    "    if row[\"Currency\"] == \"$\":\n",
    "        return float(row[\"PRICE\"].replace(\"$\", '').replace(',', ''))\n",
    "    currency = row[\"Currency\"]\n",
    "    amount = row[\"PRICE\"]\n",
    "    currency_rate = rates[currency]\n",
    "    return float(amount.replace(currency, '').replace(',', '')) * currency_rate\n",
    "    # except Exception as e:\n",
    "    #     print(\"CURRENCY :\", row[\"Currency\"])\n",
    "    #     print(\"PRICE :\", row[\"PRICE\"])\n",
    "    #     print(\"ERROR :\", traceback.print_exc())\n",
    "df_acquisition['PRICE_CONVERTED'] = df_acquisition.apply(convert_current_acquisition, axis=1)\n",
    "df_acquisition.loc[df_acquisition['COMPANY_NAME'] == \"EQT\"].head(7)\n"
   ]
  },
  {
   "cell_type": "markdown",
   "metadata": {
    "jp-MarkdownHeadingCollapsed": true
   },
   "source": [
    "## 1. Compare the `revenue range` of companies for every size of company (per employee)"
   ]
  },
  {
   "cell_type": "markdown",
   "metadata": {},
   "source": [
    "<font color='green'> Problem encounter : We need to split every category and get a numerical revenu_range, because the current format is : $XM to $XM. So we cannot use mean() function to aggregate</font>"
   ]
  },
  {
   "cell_type": "code",
   "execution_count": 10,
   "metadata": {},
   "outputs": [
    {
     "name": "stdout",
     "output_type": "stream",
     "text": [
      "For every size of company,this is an exhaustive list of the top earners\n"
     ]
    },
    {
     "data": {
      "text/html": [
       "<div>\n",
       "<style scoped>\n",
       "    .dataframe tbody tr th:only-of-type {\n",
       "        vertical-align: middle;\n",
       "    }\n",
       "\n",
       "    .dataframe tbody tr th {\n",
       "        vertical-align: top;\n",
       "    }\n",
       "\n",
       "    .dataframe thead th {\n",
       "        text-align: right;\n",
       "    }\n",
       "</style>\n",
       "<table border=\"1\" class=\"dataframe\">\n",
       "  <thead>\n",
       "    <tr style=\"text-align: right;\">\n",
       "      <th></th>\n",
       "      <th>COMPANY_NAME</th>\n",
       "      <th>CATEGORY</th>\n",
       "      <th>LOCATION</th>\n",
       "      <th>FOUNDED_ON</th>\n",
       "      <th>EXITED_ON</th>\n",
       "      <th>CLOSED_ON</th>\n",
       "      <th>REVENU_RANGE</th>\n",
       "      <th>EMPLOYEE_NUMBER</th>\n",
       "      <th>MAPPING_REVENU</th>\n",
       "      <th>MAPPING_EMPLOYEE</th>\n",
       "    </tr>\n",
       "  </thead>\n",
       "  <tbody>\n",
       "    <tr>\n",
       "      <th>614</th>\n",
       "      <td>ICICI Bank</td>\n",
       "      <td>Banking, Financial Services</td>\n",
       "      <td>Mumbai, Maharashtra, India</td>\n",
       "      <td>1994</td>\n",
       "      <td>Mar 28, 2000</td>\n",
       "      <td>—</td>\n",
       "      <td>$10B+</td>\n",
       "      <td>1-10</td>\n",
       "      <td>10000</td>\n",
       "      <td>5</td>\n",
       "    </tr>\n",
       "    <tr>\n",
       "      <th>690</th>\n",
       "      <td>Starcity</td>\n",
       "      <td>Home Services, Hospitality, Real Estate</td>\n",
       "      <td>San Francisco, California, United States</td>\n",
       "      <td>2016</td>\n",
       "      <td>—</td>\n",
       "      <td>—</td>\n",
       "      <td>$50M to $100M</td>\n",
       "      <td>11-50</td>\n",
       "      <td>75</td>\n",
       "      <td>25</td>\n",
       "    </tr>\n",
       "    <tr>\n",
       "      <th>959</th>\n",
       "      <td>Clover</td>\n",
       "      <td>Mobile, Open Source, Payments</td>\n",
       "      <td>Sunnyvale, California, United States</td>\n",
       "      <td>Oct 1, 2010</td>\n",
       "      <td>Dec 1, 2012</td>\n",
       "      <td>—</td>\n",
       "      <td>$1B to $10B</td>\n",
       "      <td>51-100</td>\n",
       "      <td>5000</td>\n",
       "      <td>75</td>\n",
       "    </tr>\n",
       "    <tr>\n",
       "      <th>694</th>\n",
       "      <td>Eurazeo</td>\n",
       "      <td>Finance, Financial Services, FinTech, Venture ...</td>\n",
       "      <td>Paris, Ile-de-France, France</td>\n",
       "      <td>Jul 18, 1969</td>\n",
       "      <td>Apr 1, 1999</td>\n",
       "      <td>—</td>\n",
       "      <td>$1B to $10B</td>\n",
       "      <td>101-250</td>\n",
       "      <td>5000</td>\n",
       "      <td>175</td>\n",
       "    </tr>\n",
       "    <tr>\n",
       "      <th>582</th>\n",
       "      <td>Instagram</td>\n",
       "      <td>Mobile, Photo Sharing, Photography, Social Media</td>\n",
       "      <td>Menlo Park, California, United States</td>\n",
       "      <td>Oct 6, 2010</td>\n",
       "      <td>Apr 9, 2012</td>\n",
       "      <td>—</td>\n",
       "      <td>$10B+</td>\n",
       "      <td>251-500</td>\n",
       "      <td>10000</td>\n",
       "      <td>375</td>\n",
       "    </tr>\n",
       "    <tr>\n",
       "      <th>88</th>\n",
       "      <td>Octopus Energy</td>\n",
       "      <td>Energy Efficiency, GreenTech, Renewable Energy</td>\n",
       "      <td>London, England, United Kingdom</td>\n",
       "      <td>Oct 1, 2015</td>\n",
       "      <td>—</td>\n",
       "      <td>—</td>\n",
       "      <td>$1B to $10B</td>\n",
       "      <td>501-1000</td>\n",
       "      <td>5000</td>\n",
       "      <td>750</td>\n",
       "    </tr>\n",
       "    <tr>\n",
       "      <th>8</th>\n",
       "      <td>Netflix</td>\n",
       "      <td>Digital Entertainment, Media and Entertainment...</td>\n",
       "      <td>Los Gatos, California, United States</td>\n",
       "      <td>Jan 1, 1997</td>\n",
       "      <td>May 23, 2002</td>\n",
       "      <td>—</td>\n",
       "      <td>$10B+</td>\n",
       "      <td>1001-5000</td>\n",
       "      <td>10000</td>\n",
       "      <td>3500</td>\n",
       "    </tr>\n",
       "    <tr>\n",
       "      <th>27</th>\n",
       "      <td>SpaceX</td>\n",
       "      <td>Aerospace, Manufacturing, Space Travel, Transp...</td>\n",
       "      <td>Hawthorne, California, United States</td>\n",
       "      <td>May 6, 2002</td>\n",
       "      <td>—</td>\n",
       "      <td>—</td>\n",
       "      <td>$1B to $10B</td>\n",
       "      <td>5001-10000</td>\n",
       "      <td>5000</td>\n",
       "      <td>7500</td>\n",
       "    </tr>\n",
       "    <tr>\n",
       "      <th>3</th>\n",
       "      <td>Xiaomi</td>\n",
       "      <td>Consumer Electronics, Internet, Mobile</td>\n",
       "      <td>Beijing, Beijing, China</td>\n",
       "      <td>Apr 4, 2010</td>\n",
       "      <td>Jul 9, 2018</td>\n",
       "      <td>—</td>\n",
       "      <td>$10B+</td>\n",
       "      <td>10001+</td>\n",
       "      <td>10000</td>\n",
       "      <td>10000</td>\n",
       "    </tr>\n",
       "  </tbody>\n",
       "</table>\n",
       "</div>"
      ],
      "text/plain": [
       "       COMPANY_NAME                                           CATEGORY  \\\n",
       "614      ICICI Bank                        Banking, Financial Services   \n",
       "690        Starcity            Home Services, Hospitality, Real Estate   \n",
       "959          Clover                      Mobile, Open Source, Payments   \n",
       "694         Eurazeo  Finance, Financial Services, FinTech, Venture ...   \n",
       "582       Instagram   Mobile, Photo Sharing, Photography, Social Media   \n",
       "88   Octopus Energy     Energy Efficiency, GreenTech, Renewable Energy   \n",
       "8           Netflix  Digital Entertainment, Media and Entertainment...   \n",
       "27           SpaceX  Aerospace, Manufacturing, Space Travel, Transp...   \n",
       "3            Xiaomi             Consumer Electronics, Internet, Mobile   \n",
       "\n",
       "                                     LOCATION    FOUNDED_ON     EXITED_ON  \\\n",
       "614                Mumbai, Maharashtra, India          1994  Mar 28, 2000   \n",
       "690  San Francisco, California, United States          2016             —   \n",
       "959      Sunnyvale, California, United States   Oct 1, 2010   Dec 1, 2012   \n",
       "694              Paris, Ile-de-France, France  Jul 18, 1969   Apr 1, 1999   \n",
       "582     Menlo Park, California, United States   Oct 6, 2010   Apr 9, 2012   \n",
       "88            London, England, United Kingdom   Oct 1, 2015             —   \n",
       "8        Los Gatos, California, United States   Jan 1, 1997  May 23, 2002   \n",
       "27       Hawthorne, California, United States   May 6, 2002             —   \n",
       "3                     Beijing, Beijing, China   Apr 4, 2010   Jul 9, 2018   \n",
       "\n",
       "    CLOSED_ON   REVENU_RANGE EMPLOYEE_NUMBER  MAPPING_REVENU  MAPPING_EMPLOYEE  \n",
       "614         —          $10B+            1-10           10000                 5  \n",
       "690         —  $50M to $100M           11-50              75                25  \n",
       "959         —    $1B to $10B          51-100            5000                75  \n",
       "694         —    $1B to $10B         101-250            5000               175  \n",
       "582         —          $10B+         251-500           10000               375  \n",
       "88          —    $1B to $10B        501-1000            5000               750  \n",
       "8           —          $10B+       1001-5000           10000              3500  \n",
       "27          —    $1B to $10B      5001-10000            5000              7500  \n",
       "3           —          $10B+          10001+           10000             10000  "
      ]
     },
     "metadata": {},
     "output_type": "display_data"
    }
   ],
   "source": [
    "\n",
    "df_revenue_range = df_company[\"REVENU_RANGE\"].value_counts()\n",
    "df_revenue_range\n",
    "\n",
    "range_employee = df_company[\"EMPLOYEE_NUMBER\"].value_counts(ascending = True)\n",
    "range_employee\n",
    "# Convert revenue ranges to numeric values (midpoints of the ranges)\n",
    "revenue_maps = {\n",
    "    'Less than $1M': 0.5,\n",
    "    '$1M to $10M': 5,\n",
    "    '$10M to $50M': 25 ,\n",
    "    '$50M to $100M': 75,\n",
    "    '$100M to $500M': 300,\n",
    "    '$500M to $1B': 750,\n",
    "    '$1B to $10B': 5000,\n",
    "    '$10B+': 10000\n",
    "}\n",
    "employee_maps = {\n",
    "    '1-10' : 5,\n",
    "    '11-50' : 25,\n",
    "    '51-100' : 75,\n",
    "    '101-250' : 175,\n",
    "    '251-500' : 375,\n",
    "    '501-1000' : 750,\n",
    "    '1001-5000' : 3500,\n",
    "    '5001-10000' : 7500,\n",
    "    '10001+' : 10000,\n",
    "}\n",
    "\n",
    "df_company[\"MAPPING_REVENU\"]= df_company['REVENU_RANGE'].map(revenue_maps)\n",
    "df_company[\"MAPPING_EMPLOYEE\"] = df_company['EMPLOYEE_NUMBER'].map(employee_maps)\n",
    "company_benchmark = df_company.loc[df_company.groupby([\"MAPPING_EMPLOYEE\"])[\"MAPPING_REVENU\"].idxmax()]\n",
    "\n",
    "print(\"For every size of company,this is an exhaustive list of the top earners\")\n",
    "display(company_benchmark)\n",
    "\n",
    " \n"
   ]
  },
  {
   "cell_type": "markdown",
   "metadata": {
    "jp-MarkdownHeadingCollapsed": true
   },
   "source": [
    "## 2. In average, what type of company (category of company) is the most `valuable` ?"
   ]
  },
  {
   "cell_type": "markdown",
   "metadata": {},
   "source": [
    "##### Let's compare `categories` & `revenu_range` columns\n",
    "##### We need to `split` the categories in the column \"Category\" and after `count every category to compare` which one is the most `used`. I need to get each category per line for every company so I can count</font>\n"
   ]
  },
  {
   "cell_type": "code",
   "execution_count": 11,
   "metadata": {},
   "outputs": [
    {
     "name": "stdout",
     "output_type": "stream",
     "text": [
      "Top 5 most valuable categories:\n",
      "CATEGORY\n",
      "Software                 207861\n",
      "Internet                 189747\n",
      "Information Technology   137120\n",
      "Enterprise Software      127012\n",
      "Mobile                   122698\n",
      "Name: MAPPING_REVENU, dtype: float64\n"
     ]
    },
    {
     "data": {
      "text/html": [
       "<div>\n",
       "<style scoped>\n",
       "    .dataframe tbody tr th:only-of-type {\n",
       "        vertical-align: middle;\n",
       "    }\n",
       "\n",
       "    .dataframe tbody tr th {\n",
       "        vertical-align: top;\n",
       "    }\n",
       "\n",
       "    .dataframe thead th {\n",
       "        text-align: right;\n",
       "    }\n",
       "</style>\n",
       "<table border=\"1\" class=\"dataframe\">\n",
       "  <thead>\n",
       "    <tr style=\"text-align: right;\">\n",
       "      <th></th>\n",
       "      <th>COMPANY_NAME</th>\n",
       "      <th>CATEGORY</th>\n",
       "      <th>MAPPING_REVENU</th>\n",
       "    </tr>\n",
       "  </thead>\n",
       "  <tbody>\n",
       "    <tr>\n",
       "      <th>0</th>\n",
       "      <td>Twitter</td>\n",
       "      <td>Blogging Platforms</td>\n",
       "      <td>5000</td>\n",
       "    </tr>\n",
       "    <tr>\n",
       "      <th>0</th>\n",
       "      <td>Twitter</td>\n",
       "      <td>Messaging</td>\n",
       "      <td>5000</td>\n",
       "    </tr>\n",
       "    <tr>\n",
       "      <th>0</th>\n",
       "      <td>Twitter</td>\n",
       "      <td>SMS</td>\n",
       "      <td>5000</td>\n",
       "    </tr>\n",
       "    <tr>\n",
       "      <th>0</th>\n",
       "      <td>Twitter</td>\n",
       "      <td>Social Media</td>\n",
       "      <td>5000</td>\n",
       "    </tr>\n",
       "    <tr>\n",
       "      <th>1</th>\n",
       "      <td>Ant Group</td>\n",
       "      <td>Banking</td>\n",
       "      <td>300</td>\n",
       "    </tr>\n",
       "    <tr>\n",
       "      <th>...</th>\n",
       "      <td>...</td>\n",
       "      <td>...</td>\n",
       "      <td>...</td>\n",
       "    </tr>\n",
       "    <tr>\n",
       "      <th>999</th>\n",
       "      <td>Bitmain</td>\n",
       "      <td>Application Specific Integrated Circuit (ASIC)</td>\n",
       "      <td>5000</td>\n",
       "    </tr>\n",
       "    <tr>\n",
       "      <th>999</th>\n",
       "      <td>Bitmain</td>\n",
       "      <td>Bitcoin</td>\n",
       "      <td>5000</td>\n",
       "    </tr>\n",
       "    <tr>\n",
       "      <th>999</th>\n",
       "      <td>Bitmain</td>\n",
       "      <td>Electronics</td>\n",
       "      <td>5000</td>\n",
       "    </tr>\n",
       "    <tr>\n",
       "      <th>999</th>\n",
       "      <td>Bitmain</td>\n",
       "      <td>Manufacturing</td>\n",
       "      <td>5000</td>\n",
       "    </tr>\n",
       "    <tr>\n",
       "      <th>999</th>\n",
       "      <td>Bitmain</td>\n",
       "      <td>Semiconductor</td>\n",
       "      <td>5000</td>\n",
       "    </tr>\n",
       "  </tbody>\n",
       "</table>\n",
       "<p>4984 rows × 3 columns</p>\n",
       "</div>"
      ],
      "text/plain": [
       "    COMPANY_NAME                                        CATEGORY  \\\n",
       "0        Twitter                              Blogging Platforms   \n",
       "0        Twitter                                       Messaging   \n",
       "0        Twitter                                             SMS   \n",
       "0        Twitter                                    Social Media   \n",
       "1      Ant Group                                         Banking   \n",
       "..           ...                                             ...   \n",
       "999      Bitmain  Application Specific Integrated Circuit (ASIC)   \n",
       "999      Bitmain                                         Bitcoin   \n",
       "999      Bitmain                                     Electronics   \n",
       "999      Bitmain                                   Manufacturing   \n",
       "999      Bitmain                                   Semiconductor   \n",
       "\n",
       "     MAPPING_REVENU  \n",
       "0              5000  \n",
       "0              5000  \n",
       "0              5000  \n",
       "0              5000  \n",
       "1               300  \n",
       "..              ...  \n",
       "999            5000  \n",
       "999            5000  \n",
       "999            5000  \n",
       "999            5000  \n",
       "999            5000  \n",
       "\n",
       "[4984 rows x 3 columns]"
      ]
     },
     "execution_count": 11,
     "metadata": {},
     "output_type": "execute_result"
    }
   ],
   "source": [
    "# Split categories into individual rows\n",
    "category_split = df_company['CATEGORY'].str.split(', ')\n",
    "df_category = pd.DataFrame({\n",
    "    'COMPANY_NAME': df_company['COMPANY_NAME'].repeat(category_split.apply(len)),\n",
    "    'CATEGORY': category_split.explode()\n",
    "})\n",
    "\n",
    "# Map revenue ranges to numerical values\n",
    "df_category['MAPPING_REVENU'] = df_company['REVENU_RANGE'].map(revenue_maps)\n",
    "\n",
    "# Calculate total revenue for each category\n",
    "category_total_revenue = df_category.groupby('CATEGORY')['MAPPING_REVENU'].sum()\n",
    "\n",
    "#  Get the top 5 most valuable categories\n",
    "top5_categories = category_total_revenue.nlargest(5)\n",
    "\n",
    "print(\"Top 5 most valuable categories:\")\n",
    "print(top5_categories)\n",
    "\n",
    "df_category\n"
   ]
  },
  {
   "cell_type": "markdown",
   "metadata": {},
   "source": [
    "#### Illustration of the top 5 `Most Valuable Categories`"
   ]
  },
  {
   "cell_type": "code",
   "execution_count": 12,
   "metadata": {},
   "outputs": [
    {
     "name": "stderr",
     "output_type": "stream",
     "text": [
      "C:\\Users\\clmen\\AppData\\Local\\Temp\\ipykernel_1340\\2944225192.py:6: FutureWarning: \n",
      "\n",
      "Passing `palette` without assigning `hue` is deprecated and will be removed in v0.14.0. Assign the `x` variable to `hue` and set `legend=False` for the same effect.\n",
      "\n",
      "  sns.barplot(x=top5_categories.index, y=top5_categories.values, palette=\"viridis\")\n"
     ]
    },
    {
     "data": {
      "image/png": "[encoded data removed]",
      "text/plain": [
       "<Figure size 800x500 with 1 Axes>"
      ]
     },
     "metadata": {},
     "output_type": "display_data"
    }
   ],
   "source": [
    "\n",
    "# Set the style of seaborn\n",
    "sns.set(style=\"whitegrid\")\n",
    "\n",
    "# Create a bar plot using Seaborn\n",
    "plt.figure(figsize=(8, 5))\n",
    "sns.barplot(x=top5_categories.index, y=top5_categories.values, palette=\"viridis\")\n",
    "\n",
    "# Set plot labels and title\n",
    "plt.xlabel(\"Category\")\n",
    "plt.ylabel(\"Total Revenue\")\n",
    "plt.title(\"Top 5 Most Valuable Categories\")\n",
    "\n",
    "\n",
    "plt.xticks(rotation=45, ha='right')\n",
    "\n",
    "\n",
    "plt.show()\n"
   ]
  },
  {
   "cell_type": "markdown",
   "metadata": {},
   "source": [
    "As we can see, the top 5 most valuable categories are : \n",
    "- Software\n",
    "- Internet\n",
    "- Information Technology\n",
    "- Enterprise Software \n",
    "- Mobile\n"
   ]
  },
  {
   "cell_type": "markdown",
   "metadata": {
    "jp-MarkdownHeadingCollapsed": true
   },
   "source": [
    "## 3. Which company has the `largest number of acquisitions`?\n"
   ]
  },
  {
   "cell_type": "markdown",
   "metadata": {},
   "source": [
    "#### Find the `type of acquisition` and get the `number for each type`"
   ]
  },
  {
   "cell_type": "code",
   "execution_count": 13,
   "metadata": {},
   "outputs": [
    {
     "data": {
      "image/png": "[encoded data removed]",
      "text/plain": [
       "<Figure size 1000x600 with 1 Axes>"
      ]
     },
     "metadata": {},
     "output_type": "display_data"
    },
    {
     "name": "stdout",
     "output_type": "stream",
     "text": [
      "ACQUISITION_TYPE\n",
      "Acquisition          1148\n",
      "—                     122\n",
      "Leveraged Buyout       57\n",
      "Acquihire               8\n",
      "Merger                  4\n",
      "Management Buyout       1\n",
      "Name: count, dtype: int64\n"
     ]
    }
   ],
   "source": [
    "type_of_acquisition = df_acquisition['ACQUISITION_TYPE'].value_counts()\n",
    "\n",
    "\n",
    "plt.figure(figsize=(10, 6))\n",
    "plt.bar(type_of_acquisition.index, type_of_acquisition.values, width=0.6)\n",
    "\n",
    "# Add labels and title\n",
    "plt.xlabel('Acquisition Type')\n",
    "plt.ylabel('Count')\n",
    "plt.title('Distribution of Acquisition Types')\n",
    "\n",
    "plt.show()\n",
    "print(type_of_acquisition)"
   ]
  },
  {
   "cell_type": "markdown",
   "metadata": {},
   "source": [
    "##### As we can see, we don't really know what \"-\" is, let's assume it's an acquisition, but that the dataset doesn't detail what type it is  "
   ]
  },
  {
   "cell_type": "code",
   "execution_count": 14,
   "metadata": {},
   "outputs": [
    {
     "name": "stdout",
     "output_type": "stream",
     "text": [
      "The company with the most acquisitions is: Cisco\n",
      "Number of occurrences for each type of acquisition for Microsoft:\n",
      "ACQUISITION_TYPE\n",
      "Acquisition    115\n",
      "—               23\n",
      "Acquihire        1\n",
      "Name: count, dtype: int64\n"
     ]
    }
   ],
   "source": [
    "\n",
    "company_acquisition_counts = df_acquisition['COMPANY_NAME'].value_counts()\n",
    "\n",
    "\n",
    "company_with_most_acquisitions = company_acquisition_counts.idxmax()\n",
    "\n",
    "print(f\"The company with the most acquisitions is: {company_with_most_acquisitions}\")\n",
    "\n",
    "\n",
    "acquisitions = df_acquisition[df_acquisition['COMPANY_NAME'] == company_with_most_acquisitions]\n",
    "\n",
    "acquisition_type_counts = acquisitions['ACQUISITION_TYPE'].value_counts()\n",
    "\n",
    "print(\"Number of occurrences for each type of acquisition for Microsoft:\")\n",
    "print(acquisition_type_counts)\n"
   ]
  },
  {
   "cell_type": "markdown",
   "metadata": {},
   "source": [
    "##### `Top 5 companies` with the most `acquisitions `"
   ]
  },
  {
   "cell_type": "code",
   "execution_count": 15,
   "metadata": {},
   "outputs": [
    {
     "name": "stdout",
     "output_type": "stream",
     "text": [
      "Top 5 Companies with the Most Acquisitions:\n",
      "Index(['Cisco', 'Google', 'Apollo', 'Medtronic', 'Intel'], dtype='object', name='COMPANY_NAME')\n",
      "\n",
      "Number of occurrences for each type of acquisition for the Top 5 Companies:\n",
      "ACQUISITION_TYPE\n",
      "Acquisition         210\n",
      "—                    65\n",
      "Leveraged Buyout     19\n",
      "Acquihire             2\n",
      "Name: count, dtype: int64\n"
     ]
    }
   ],
   "source": [
    "\n",
    "\n",
    "# Get the top 5 companies with the most acquisitions\n",
    "top_5_companies_acquisitions = df_acquisition['COMPANY_NAME'].value_counts().nlargest(5).index\n",
    "\n",
    "# Create a list to store the dataframes for each top company\n",
    "top_companies_acquisitions_dataframes = []\n",
    "\n",
    "# Iterate over the top 5 companies and retrieve their acquisitions\n",
    "for company in top_5_companies_acquisitions:\n",
    "    acquisitions = df_acquisition[df_acquisition['COMPANY_NAME'] == company]\n",
    "    top_companies_acquisitions_dataframes.append(acquisitions)\n",
    "\n",
    "# Concatenate the dataframes for the top companies\n",
    "top_companies_acquisitions = pd.concat(top_companies_acquisitions_dataframes)\n",
    "\n",
    "# Count the occurrences of each type of acquisition for the top companies\n",
    "acquisition_type_counts = top_companies_acquisitions['ACQUISITION_TYPE'].value_counts()\n",
    "\n",
    "# Print the results\n",
    "print(\"Top 5 Companies with the Most Acquisitions:\")\n",
    "print(top_5_companies_acquisitions)\n",
    "print(\"\\nNumber of occurrences for each type of acquisition for the Top 5 Companies:\")\n",
    "print(acquisition_type_counts)\n",
    "\n"
   ]
  },
  {
   "cell_type": "markdown",
   "metadata": {},
   "source": [
    " ##### From now, let's assume that \"-\" is just a `residual data`. Let's get the `company with the highest Acquisition`"
   ]
  },
  {
   "cell_type": "code",
   "execution_count": 16,
   "metadata": {},
   "outputs": [
    {
     "name": "stdout",
     "output_type": "stream",
     "text": [
      "The company with the most 'Acquisition' occurrences is: Cisco\n",
      "Number of 'Acquisition' occurrences for Cisco: 139\n"
     ]
    }
   ],
   "source": [
    "\n",
    "\n",
    "\n",
    "acquisition_df = df_acquisition[df_acquisition['ACQUISITION_TYPE'] != '-']\n",
    "company_acquisition_counts = acquisition_df['COMPANY_NAME'].value_counts()\n",
    "\n",
    "company_with_most_acquisitions = company_acquisition_counts.idxmax()\n",
    "\n",
    "number_of_acquisitions = company_acquisition_counts.max()\n",
    "\n",
    "print(f\"The company with the most 'Acquisition' occurrences is: {company_with_most_acquisitions}\")\n",
    "print(f\"Number of 'Acquisition' occurrences for {company_with_most_acquisitions}: {number_of_acquisitions}\")\n"
   ]
  },
  {
   "cell_type": "markdown",
   "metadata": {
    "jp-MarkdownHeadingCollapsed": true
   },
   "source": [
    "## 4. Which `type of funding` has the most `money raised `"
   ]
  },
  {
   "cell_type": "code",
   "execution_count": 17,
   "metadata": {},
   "outputs": [
    {
     "name": "stdout",
     "output_type": "stream",
     "text": [
      "The type of funding that raised the most money is: Post-IPO Secondary with an average amount of 1,309,284,517.08 USD.\n"
     ]
    }
   ],
   "source": [
    "\n",
    "# best_type_funding = df_investment.groupby([\"MONEY_RAISED_USD\"]).mean()\n",
    "funding_type_mean = df_investment.groupby('FUNDING_TYPE')['MONEY_RAISED_CONVERTED'].mean()\n",
    "best_type_funding = funding_type_mean.sort_values(ascending=False)\n",
    "best_type_funding\n",
    "\n",
    "print(f\"The type of funding that raised the most money is: {best_type_funding.idxmax()} with an average amount of {best_type_funding.max():,.2f} USD.\")\n"
   ]
  },
  {
   "cell_type": "markdown",
   "metadata": {},
   "source": [
    "##### The `type of funding that raised the most money` is: `Post-IPO Secondary` with an average amount of 1,309,284,517.08 USD."
   ]
  },
  {
   "cell_type": "markdown",
   "metadata": {
    "jp-MarkdownHeadingCollapsed": true
   },
   "source": [
    "## 5. How many companies have received `at least one round of investment` and which company has the `most round of investment`?"
   ]
  },
  {
   "cell_type": "code",
   "execution_count": 18,
   "metadata": {},
   "outputs": [
    {
     "name": "stdout",
     "output_type": "stream",
     "text": [
      "The number of companies with at least one round of investment is: 926\n"
     ]
    }
   ],
   "source": [
    "df_unique_companies = df_investment.drop_duplicates(subset='COMPANY_NAME')\n",
    "#print(df_unique_companies)\n",
    "\n",
    "# Assuming that if a company is in df_investment it means he has at least one investment. Count the number of companies with at least one round of investment\n",
    "num_companies_with_investment = df_unique_companies['COMPANY_NAME'].count()\n",
    "\n",
    "print(f\"The number of companies with at least one round of investment is: {num_companies_with_investment}\")"
   ]
  },
  {
   "cell_type": "markdown",
   "metadata": {},
   "source": [
    "##### We want to know the `total number of funding rounds for each company`"
   ]
  },
  {
   "cell_type": "code",
   "execution_count": 19,
   "metadata": {},
   "outputs": [
    {
     "name": "stdout",
     "output_type": "stream",
     "text": [
      "Total Number of Funding Rounds for Each Company (Descending Order):\n",
      "                                 COMPANY_NAME  TOTAL_FUNDING_ROUNDS\n",
      "787                                     Tesla                    35\n",
      "552                                       Ola                    25\n",
      "814                                      Uber                    20\n",
      "902                                    Zomato                    20\n",
      "300                                  Flipkart                    19\n",
      "..                                        ...                   ...\n",
      "155                                 Chainlink                     1\n",
      "73                                         BP                     1\n",
      "74                                         BT                     1\n",
      "570                                    Orange                     1\n",
      "175  Cloud Native Computing Foundation (CNCF)                     1\n",
      "\n",
      "[926 rows x 2 columns]\n",
      "\n",
      "Company with the Most Funding Rounds:\n",
      "Tesla\n"
     ]
    }
   ],
   "source": [
    "\n",
    "# Calculate the total number of funding rounds for each company\n",
    "total_funding_rounds = df_investment.groupby('COMPANY_NAME').size().reset_index(name='TOTAL_FUNDING_ROUNDS')\n",
    "\n",
    "# Sort the result in descending order of the total number of funding rounds\n",
    "total_funding_rounds = total_funding_rounds.sort_values(by='TOTAL_FUNDING_ROUNDS', ascending=False)\n",
    "\n",
    "# Print the result\n",
    "print(\"Total Number of Funding Rounds for Each Company (Descending Order):\")\n",
    "print(total_funding_rounds)\n",
    "\n",
    "company_most_rounds = total_funding_rounds.iloc[0]['COMPANY_NAME']\n",
    "print(\"\\nCompany with the Most Funding Rounds:\")\n",
    "print(company_most_rounds)\n"
   ]
  },
  {
   "cell_type": "markdown",
   "metadata": {},
   "source": [
    "##### `Tesla` is the company with the most investment rounds"
   ]
  },
  {
   "cell_type": "markdown",
   "metadata": {
    "jp-MarkdownHeadingCollapsed": true
   },
   "source": [
    "## 6. Which Company has the `most money_raised thanks to investment`"
   ]
  },
  {
   "cell_type": "code",
   "execution_count": 20,
   "metadata": {},
   "outputs": [
    {
     "name": "stdout",
     "output_type": "stream",
     "text": [
      "Top 10 companies by total money raised:\n",
      "Reliance Jio: $24,454,731,338.07573\n",
      "Tesla: $22,941,467,409.623444\n",
      "Facebook: $19,509,617,488.0\n",
      "Ant Group: $18,500,000,000.0\n",
      "Meituan: $17,288,000,000.0\n",
      "Uber: $17,213,700,000.0\n",
      "Didi: $15,650,800,000.0\n",
      "BP: $12,000,000,000.0\n",
      "Sberbank: $11,600,000,000.0\n",
      "Siemens: $8,971,700,000.0\n",
      "\n",
      "Company with the maximum money raised:\n",
      "Reliance Jio: $24,454,731,338.08\n"
     ]
    }
   ],
   "source": [
    "\n",
    "\n",
    "# Group by COMPANY_NAME and sum the MONEY_RAISED_CONVERTED for each company\n",
    "total_money_raised_by_company = df_investment.groupby(\"COMPANY_NAME\")[\"MONEY_RAISED_CONVERTED\"].sum()\n",
    "\n",
    "# Get the top 10 companies\n",
    "top_10_companies = total_money_raised_by_company.nlargest(10)\n",
    "company_with_max_money_raised = total_money_raised_by_company.idxmax()\n",
    "max_money_raised = total_money_raised_by_company.max()\n",
    "\n",
    "\n",
    "print(\"Top 10 companies by total money raised:\")\n",
    "for company, amount in top_10_companies.items():\n",
    "    print(f\"{company}: ${amount:,}\")\n",
    "\n",
    "print(f\"\\nCompany with the maximum money raised:\")\n",
    "print(f\"{company_with_max_money_raised}: ${max_money_raised:,.2f}\")\n"
   ]
  },
  {
   "cell_type": "markdown",
   "metadata": {
    "jp-MarkdownHeadingCollapsed": true
   },
   "source": [
    "## 7. What is the `Investment` the` most valuable` ?\n"
   ]
  },
  {
   "cell_type": "code",
   "execution_count": 21,
   "metadata": {},
   "outputs": [
    {
     "name": "stdout",
     "output_type": "stream",
     "text": [
      "Funding Type that Raised the Most Money:\n",
      "Post-IPO Equity\n",
      "Funding Types Sorted by Total Money Raised (Ascending Order):\n",
      "                FUNDING_TYPE  TOTAL_MONEY_RAISED\n",
      "10           Post-IPO Equity        102208257436\n",
      "9              Post-IPO Debt         77094588708\n",
      "13            Private Equity         71564933988\n",
      "19                  Series C         53718212464\n",
      "21                  Series E         41180160357\n",
      "20                  Series D         39112230640\n",
      "27  Venture - Series Unknown         38799185891\n",
      "2            Corporate Round         36650339635\n",
      "22                  Series F         33210822346\n",
      "3             Debt Financing         29811786531\n",
      "18                  Series B         29356121325\n",
      "17                  Series A         21093669194\n",
      "23                  Series G         16979982930\n",
      "11        Post-IPO Secondary         11783560654\n",
      "15          Secondary Market          8019477956\n",
      "24                  Series H          7908456675\n",
      "7      Initial Coin Offering          4542700000\n",
      "6                      Grant          4369976863\n",
      "5              Funding Round          3924949924\n",
      "1           Convertible Note          3643588496\n",
      "26                  Series J          2284949971\n",
      "16                      Seed          2097243197\n",
      "25                  Series I          1174140000\n",
      "4        Equity Crowdfunding           281497763\n",
      "0                      Angel            75307832\n",
      "12                  Pre-Seed            27475985\n",
      "14      Product Crowdfunding            14032000\n",
      "8      Non-equity Assistance              386725\n"
     ]
    }
   ],
   "source": [
    "\n",
    "# Group by 'FUNDING_TYPE' and calculate the sum of 'MONEY_RAISED' for each funding type\n",
    "total_money_raised_by_funding_type = df_investment.groupby('FUNDING_TYPE')['MONEY_RAISED_CONVERTED'].sum().reset_index(name='TOTAL_MONEY_RAISED')\n",
    "\n",
    "# Sort the result by ascending order based on the total money raised\n",
    "sorted_money_raised_funding_types = total_money_raised_by_funding_type.sort_values(by='TOTAL_MONEY_RAISED', ascending=False)\n",
    "max_money_raised_funding_type = total_money_raised_by_funding_type.loc[total_money_raised_by_funding_type['TOTAL_MONEY_RAISED'].idxmax()]\n",
    "\n",
    "# Print the sorted result\n",
    "print(\"Funding Type that Raised the Most Money:\")\n",
    "print(max_money_raised_funding_type['FUNDING_TYPE'])\n",
    "print(\"Funding Types Sorted by Total Money Raised (Ascending Order):\")\n",
    "print(sorted_money_raised_funding_types)\n",
    "\n"
   ]
  },
  {
   "cell_type": "markdown",
   "metadata": {
    "jp-MarkdownHeadingCollapsed": true
   },
   "source": [
    "## 8. Which type of funding is the `most used nowadays`"
   ]
  },
  {
   "cell_type": "markdown",
   "metadata": {},
   "source": [
    "Let's define some `type of fundings` :\n",
    "1. `Series A` = The term gets its name from the preferred stock sold to investors at this stage. In this round, it's important to have a plan for developing a business model that will generate long-term profit.\n",
    "\n",
    "2. `Series B` = Series B rounds are about taking businesses to the next level, past the development stage. Investors help startups get there by expanding market reach. Companies that have gone through seed and Series A funding rounds have already developed substantial user bases and have proven to investors that they are prepared for success on a larger scale. Series B funding is used to grow the company so that it can meet these levels of demand.\n",
    "\n",
    "3. `Series C` = Businesses that raise Series C funding are already quite successful. These companies look for additional funding to help them develop new products, expand into new markets, or even acquire other companies. In Series C rounds, investors inject capital into successful businesses in an effort to receive more than double that amount back. Series C funding focuses on scaling the company, growing as quickly and successfully as possible.\n",
    "\n",
    "4. `Seed` = Seed funding is the first official equity funding stage. It typically represents the first official money a business venture or enterprise raises. Some companies never extend beyond seed funding into Series A rounds or beyond. This early financial support is akin to watering the seed planted during pre-seeding.\n",
    "\n",
    "5. `Venture` = From the Venture Capital (VC),is a sum of money investors commit for investment in early-stage companies. The investors who supply the fund with money are designated as limited partners. The person who manages the fund is called the general partner.\n",
    "\n",
    "6. `IPO` = Initial Public Offering, it's the introduction of companies in the public by sale of its stocks to generate public"
   ]
  },
  {
   "cell_type": "code",
   "execution_count": 22,
   "metadata": {},
   "outputs": [
    {
     "name": "stdout",
     "output_type": "stream",
     "text": [
      "The type of funding the most used nowadays is : Series A\n",
      "FUNDING_TYPE\n",
      "Series A                    772\n",
      "Series B                    662\n",
      "Series C                    549\n",
      "Seed                        538\n",
      "Venture - Series Unknown    362\n",
      "Series D                    351\n",
      "Series E                    257\n",
      "Debt Financing              225\n",
      "Post-IPO Equity             195\n",
      "Series F                    143\n",
      "Private Equity              139\n",
      "Grant                        86\n",
      "Post-IPO Debt                81\n",
      "Pre-Seed                     77\n",
      "Corporate Round              74\n",
      "Series G                     64\n",
      "Angel                        62\n",
      "Convertible Note             57\n",
      "Secondary Market             55\n",
      "Equity Crowdfunding          45\n",
      "Funding Round                35\n",
      "Series H                     30\n",
      "Initial Coin Offering        11\n",
      "Series J                     10\n",
      "Series I                      9\n",
      "Post-IPO Secondary            9\n",
      "Product Crowdfunding          6\n",
      "Non-equity Assistance         5\n",
      "Name: count, dtype: int64\n"
     ]
    }
   ],
   "source": [
    "df_type_funding = df_investment[\"FUNDING_TYPE\"].value_counts()\n",
    "max_funding_type = df_type_funding.idxmax()\n",
    "\n",
    "print(f\"The type of funding the most used nowadays is : {max_funding_type}\")\n",
    "print(df_type_funding)"
   ]
  },
  {
   "cell_type": "markdown",
   "metadata": {},
   "source": [
    "##### Illustration of the `distribution of types of funding`"
   ]
  },
  {
   "cell_type": "code",
   "execution_count": 23,
   "metadata": {},
   "outputs": [
    {
     "data": {
      "image/png": "[encoded data removed]",
      "text/plain": [
       "<Figure size 640x480 with 1 Axes>"
      ]
     },
     "metadata": {},
     "output_type": "display_data"
    },
    {
     "name": "stdout",
     "output_type": "stream",
     "text": [
      "The type of funding most used nowadays is: Series A\n",
      "FUNDING_TYPE\n",
      "Series A                    772\n",
      "Series B                    662\n",
      "Series C                    549\n",
      "Seed                        538\n",
      "Venture - Series Unknown    362\n",
      "Series D                    351\n",
      "Series E                    257\n",
      "Debt Financing              225\n",
      "Post-IPO Equity             195\n",
      "Series F                    143\n",
      "Private Equity              139\n",
      "Grant                        86\n",
      "Post-IPO Debt                81\n",
      "Pre-Seed                     77\n",
      "Corporate Round              74\n",
      "Series G                     64\n",
      "Angel                        62\n",
      "Convertible Note             57\n",
      "Secondary Market             55\n",
      "Equity Crowdfunding          45\n",
      "Funding Round                35\n",
      "Series H                     30\n",
      "Initial Coin Offering        11\n",
      "Series J                     10\n",
      "Series I                      9\n",
      "Post-IPO Secondary            9\n",
      "Product Crowdfunding          6\n",
      "Non-equity Assistance         5\n",
      "Name: count, dtype: int64\n"
     ]
    }
   ],
   "source": [
    "\n",
    "df_type_funding = df_investment['FUNDING_TYPE'].value_counts()\n",
    "\n",
    "# Create a bar plot\n",
    "plt.bar(df_type_funding.index, df_type_funding.values)\n",
    "\n",
    "# Add labels and title\n",
    "plt.xlabel('Funding Type')\n",
    "plt.ylabel('Count')\n",
    "plt.title('Distribution of Types of Funding')\n",
    "\n",
    "plt.xticks(fontsize=8, rotation=45, ha=\"right\")\n",
    "\n",
    "\n",
    "# Show the plot\n",
    "plt.show()\n",
    "\n",
    "# Find the most common funding type\n",
    "max_funding_type = df_type_funding.idxmax()\n",
    "print(f\"The type of funding most used nowadays is: {max_funding_type}\")\n",
    "print(df_type_funding)"
   ]
  },
  {
   "cell_type": "markdown",
   "metadata": {
    "jp-MarkdownHeadingCollapsed": true
   },
   "source": [
    "## 9. Which company `acquired the most` and for `how much`\n",
    "\n"
   ]
  },
  {
   "cell_type": "code",
   "execution_count": 24,
   "metadata": {},
   "outputs": [
    {
     "name": "stdout",
     "output_type": "stream",
     "text": [
      "Total Number of Funding Rounds for Each Company (Descending Order):\n",
      "    COMPANY_NAME  TOTAL_ACQ_PER_COMPANY\n",
      "31         Cisco                    139\n",
      "69        Google                     43\n",
      "9         Apollo                     41\n",
      "101    Medtronic                     37\n",
      "82         Intel                     36\n",
      "..           ...                    ...\n",
      "79       Infobip                      1\n",
      "78     IndiaMART                      1\n",
      "77        InMobi                      1\n",
      "76    Ideanomics                      1\n",
      "213         ipsy                      1\n",
      "\n",
      "[214 rows x 2 columns]\n",
      "COMPANY_NAME\n",
      "Charter Communications                     56000000000\n",
      "Pfizer                                     13574375000\n",
      "The Walt Disney Company                    12695714286\n",
      "Liberty Global                              9603655563\n",
      "SoftBank                                    9137352992\n",
      "                                               ...    \n",
      "IndiaMART                                      2000000\n",
      "Argo AI                                        1600000\n",
      "MindMed                                         216958\n",
      "Novavax                                          56000\n",
      "Cloud Native Computing Foundation (CNCF)         25000\n",
      "Name: PRICE_CONVERTED, Length: 214, dtype: float64\n",
      "Charter Communications\n",
      "The company that spent the most on acquisition is : Charter Communications with an average amount of 1,309,284,517.08 USD.\n"
     ]
    }
   ],
   "source": [
    "# Calculate the total number of funding rounds for each company\n",
    "total_acquisition_per_company = df_acquisition.groupby('COMPANY_NAME').size().reset_index(name='TOTAL_ACQ_PER_COMPANY')\n",
    "\n",
    "# Sort the result in descending order of the total number of funding rounds\n",
    "total_acquisition_per_company = total_acquisition_per_company.sort_values(by='TOTAL_ACQ_PER_COMPANY', ascending=False)\n",
    "\n",
    "# Print the result\n",
    "print(\"Total Number of Funding Rounds for Each Company (Descending Order):\")\n",
    "print(total_acquisition_per_company)\n",
    "\n",
    "# best_type_funding = df_investment.groupby([\"MONEY_RAISED_USD\"]).mean()\n",
    "company_acquisition = df_acquisition.groupby('COMPANY_NAME')['PRICE_CONVERTED'].mean().sort_values(ascending=False)\n",
    "print(company_acquisition)\n",
    "print(company_acquisition.idxmax())\n",
    "print(f\"The company that spent the most on acquisition is : {company_acquisition.idxmax()} with an average amount of {best_type_funding.max():,.2f} USD.\")\n",
    "\n",
    "df_companies = df_acquisition.drop_duplicates(subset='COMPANY_NAME')\n",
    "#print(df_unique_companies)\n",
    "\n"
   ]
  },
  {
   "cell_type": "markdown",
   "metadata": {},
   "source": [
    "##### As we can see, the company with most acquisitions is `Cisco` by far (139). \n",
    "##### The company that spent the most on acquisitions is `Charter Commmunications with an Acquisition of Spectrum for 56.000.000.000$` "
   ]
  },
  {
   "cell_type": "markdown",
   "metadata": {
    "jp-MarkdownHeadingCollapsed": true
   },
   "source": [
    "## 10. Which of these `companies have CEOs graduated from a top school`? We need to use `fuzzywuzzy` to keep a `margin of error` for the school's name"
   ]
  },
  {
   "cell_type": "code",
   "execution_count": 25,
   "metadata": {},
   "outputs": [
    {
     "name": "stdout",
     "output_type": "stream",
     "text": [
      "There is no CEO from ESCP EUROPE, so we can conclude that there is any CEO graduated from a top school but let's give the list of the CEO graduated from other schools.\n",
      "CEOs from top schools grouped by company:\n"
     ]
    },
    {
     "data": {
      "text/html": [
       "<div>\n",
       "<style scoped>\n",
       "    .dataframe tbody tr th:only-of-type {\n",
       "        vertical-align: middle;\n",
       "    }\n",
       "\n",
       "    .dataframe tbody tr th {\n",
       "        vertical-align: top;\n",
       "    }\n",
       "\n",
       "    .dataframe thead th {\n",
       "        text-align: right;\n",
       "    }\n",
       "</style>\n",
       "<table border=\"1\" class=\"dataframe\">\n",
       "  <thead>\n",
       "    <tr style=\"text-align: right;\">\n",
       "      <th></th>\n",
       "      <th>COMPANY_NAME</th>\n",
       "      <th>CEO_COUNT</th>\n",
       "      <th>ATTENDED_SCHOOLS</th>\n",
       "    </tr>\n",
       "  </thead>\n",
       "  <tbody>\n",
       "    <tr>\n",
       "      <th>0</th>\n",
       "      <td>Mayo Clinic</td>\n",
       "      <td>3</td>\n",
       "      <td>Franklin and Marshall College,  University of...</td>\n",
       "    </tr>\n",
       "    <tr>\n",
       "      <th>1</th>\n",
       "      <td>Siemens</td>\n",
       "      <td>3</td>\n",
       "      <td>Wake Forest University,  University of Regens...</td>\n",
       "    </tr>\n",
       "    <tr>\n",
       "      <th>2</th>\n",
       "      <td>Investcorp</td>\n",
       "      <td>3</td>\n",
       "      <td>Fordham University,  Columbia University,  Ha...</td>\n",
       "    </tr>\n",
       "    <tr>\n",
       "      <th>3</th>\n",
       "      <td>Microsoft</td>\n",
       "      <td>3</td>\n",
       "      <td>Mangalore University University of Chicago Un...</td>\n",
       "    </tr>\n",
       "    <tr>\n",
       "      <th>4</th>\n",
       "      <td>1mg</td>\n",
       "      <td>2</td>\n",
       "      <td>Harvard Business School Indian Institute of T...</td>\n",
       "    </tr>\n",
       "    <tr>\n",
       "      <th>...</th>\n",
       "      <td>...</td>\n",
       "      <td>...</td>\n",
       "      <td>...</td>\n",
       "    </tr>\n",
       "    <tr>\n",
       "      <th>289</th>\n",
       "      <td>Goldbelly</td>\n",
       "      <td>1</td>\n",
       "      <td>Vanderbilt University</td>\n",
       "    </tr>\n",
       "    <tr>\n",
       "      <th>290</th>\n",
       "      <td>GoodRx</td>\n",
       "      <td>1</td>\n",
       "      <td>Tufts University</td>\n",
       "    </tr>\n",
       "    <tr>\n",
       "      <th>291</th>\n",
       "      <td>Grubhub</td>\n",
       "      <td>1</td>\n",
       "      <td>Michigan State University University of Chicago</td>\n",
       "    </tr>\n",
       "    <tr>\n",
       "      <th>292</th>\n",
       "      <td>HackerOne</td>\n",
       "      <td>1</td>\n",
       "      <td>Aalto University School of Science</td>\n",
       "    </tr>\n",
       "    <tr>\n",
       "      <th>293</th>\n",
       "      <td>goTenna</td>\n",
       "      <td>1</td>\n",
       "      <td>Tufts University</td>\n",
       "    </tr>\n",
       "  </tbody>\n",
       "</table>\n",
       "<p>294 rows × 3 columns</p>\n",
       "</div>"
      ],
      "text/plain": [
       "    COMPANY_NAME  CEO_COUNT                                   ATTENDED_SCHOOLS\n",
       "0    Mayo Clinic          3   Franklin and Marshall College,  University of...\n",
       "1        Siemens          3   Wake Forest University,  University of Regens...\n",
       "2     Investcorp          3   Fordham University,  Columbia University,  Ha...\n",
       "3      Microsoft          3   Mangalore University University of Chicago Un...\n",
       "4            1mg          2   Harvard Business School Indian Institute of T...\n",
       "..           ...        ...                                                ...\n",
       "289    Goldbelly          1                              Vanderbilt University\n",
       "290       GoodRx          1                                   Tufts University\n",
       "291      Grubhub          1    Michigan State University University of Chicago\n",
       "292    HackerOne          1                 Aalto University School of Science\n",
       "293      goTenna          1                                   Tufts University\n",
       "\n",
       "[294 rows x 3 columns]"
      ]
     },
     "metadata": {},
     "output_type": "display_data"
    },
    {
     "name": "stdout",
     "output_type": "stream",
     "text": [
      "CPU times: total: 43.9 s\n",
      "Wall time: 44 s\n"
     ]
    }
   ],
   "source": [
    "%%time\n",
    "\n",
    "\n",
    "print(\"There is no CEO from ESCP EUROPE, so we can conclude that there is any CEO graduated from a top school but let's give the list of the CEO graduated from other schools.\")\n",
    "\n",
    "from fuzzywuzzy import process\n",
    "\n",
    "# Assume df_employee is your DataFrame\n",
    "\n",
    "# Define a list of top schools\n",
    "top_schools = ['Harvard Business School', 'Stanford University', 'Massachusetts Institute of Technology', 'Princeton University', 'Yale University', \n",
    "               'Columbia University', 'University of Chicago', 'ESCP EUROPE', 'Boston College', 'Indian Institute of Technology','Imperial College London', 'University of Oxford',\n",
    "               'University College London', 'UCL', 'Berkeley', 'University of Pennsylvania', 'Cornell University', 'Melbourne University', 'Warwick Business School', '']\n",
    "\n",
    "# Function to match school names using fuzzywuzzy\n",
    "def match_school(school_name):\n",
    "    if pd.isna(school_name):  # Check for NaN values\n",
    "        return None\n",
    "    return process.extractOne(str(school_name), top_schools)\n",
    "\n",
    "# Apply the function to each row in the 'ATTENDED_SCHOOLS' column\n",
    "df_employee['matched_school'] = df_employee['ATTENDED_SCHOOLS'].apply(match_school)\n",
    "\n",
    "# Filter rows where the match score is above a certain threshold (adjust as needed)\n",
    "threshold = 60\n",
    "df_filtered = df_employee[df_employee['matched_school'].apply(lambda x: x[1] >= threshold if x is not None else False)]\n",
    "\n",
    "# Extract CEOs from top schools\n",
    "ceos_from_top_schools = df_filtered[(df_filtered['JOB_TITLES'].str.contains('CEO', case=False)) & (df_filtered['matched_school'].apply(lambda x: x[0] if x is not None else None).isin(top_schools))]\n",
    "\n",
    "# Split CEO details when there is more than one CEO for a company\n",
    "ceos_split = ceos_from_top_schools.assign(ATTENDED_SCHOOLS=ceos_from_top_schools['ATTENDED_SCHOOLS'].str.split(', ')).explode('ATTENDED_SCHOOLS')\n",
    "\n",
    "# Group CEOs by company and aggregate school names\n",
    "ceos_grouped = ceos_split.groupby(['COMPANY_NAME', 'EMPLOYEE_MD5']).agg({\n",
    "    'ATTENDED_SCHOOLS': lambda x: ', '.join(x),\n",
    "}).reset_index()\n",
    "\n",
    "# Group by company to get CEO count and aggregated school names\n",
    "ceos_final_grouped = ceos_grouped.groupby('COMPANY_NAME').agg({\n",
    "    'EMPLOYEE_MD5': 'count',\n",
    "    'ATTENDED_SCHOOLS': lambda x: ', '.join(x),\n",
    "}).reset_index()\n",
    "\n",
    "# Rename columns for clarity\n",
    "ceos_final_grouped.columns = ['COMPANY_NAME', 'CEO_COUNT', 'ATTENDED_SCHOOLS']\n",
    "ceos_final_grouped_sorted = ceos_final_grouped.sort_values(by='CEO_COUNT', ascending=False).reset_index(drop=True)\n",
    "\n",
    "# Print the result\n",
    "\n",
    "ceos_final_grouped\n",
    "print(\"CEOs from top schools grouped by company:\")\n",
    "display(ceos_final_grouped_sorted)\n",
    "pd.set_option('max_colwidth', 900)"
   ]
  },
  {
   "cell_type": "markdown",
   "metadata": {
    "jp-MarkdownHeadingCollapsed": true
   },
   "source": [
    "# `SUCCESS STORY based on the DataFrame`"
   ]
  },
  {
   "cell_type": "markdown",
   "metadata": {},
   "source": [
    "Tesla and Google\n",
    "* `Info` (creation / type of services)\n",
    "* `Mean() Investment` compare to the global mean() investment of the df\n",
    "* `Mean() number acquisition` & mean() `value expenses` of acquisition compare to the global value of df\n",
    "* Check `employee and CEO from top schools` to justify success \n",
    "* `Comparison between the two companies`, why one is so much more `successful` than the other\n",
    "\n"
   ]
  },
  {
   "cell_type": "markdown",
   "metadata": {},
   "source": [
    "* Reminder of the Top 5 most valuable categories:\n",
    "* `Software`                 207861\n",
    "* `Internet `                189747\n",
    "* `Information Technology`   137120\n",
    "* `Enterprise Software`      127012\n",
    "* `Mobile`                   122698\n"
   ]
  },
  {
   "cell_type": "markdown",
   "metadata": {},
   "source": [
    "##### `COMPARAISON CATEGORY`"
   ]
  },
  {
   "cell_type": "code",
   "execution_count": 26,
   "metadata": {},
   "outputs": [
    {
     "name": "stdout",
     "output_type": "stream",
     "text": [
      "   COMPANY_NAME               CATEGORY  MAPPING_REVENU\n",
      "65        Tesla             Automotive             300\n",
      "65        Tesla    Autonomous Vehicles             300\n",
      "65        Tesla       Electric Vehicle             300\n",
      "65        Tesla            Electronics             300\n",
      "65        Tesla  Innovation Management             300\n",
      "    COMPANY_NAME                CATEGORY  MAPPING_REVENU\n",
      "508       Google              Ad Network           10000\n",
      "508       Google      Blogging Platforms           10000\n",
      "508       Google           Collaboration           10000\n",
      "508       Google                   Email           10000\n",
      "508       Google     Enterprise Software           10000\n",
      "508       Google  Information Technology           10000\n",
      "508       Google           Search Engine           10000\n",
      "508       Google                Software           10000\n",
      "508       Google         Video Streaming           10000\n",
      "\n",
      "Categories for Tesla: Automotive, Autonomous Vehicles, Electric Vehicle, Electronics, Innovation Management\n",
      "\n",
      "Categories for Google: Ad Network, Blogging Platforms, Collaboration, Email, Enterprise Software, Information Technology, Search Engine, Software, Video Streaming\n"
     ]
    }
   ],
   "source": [
    "print(df_category.loc[df_company['COMPANY_NAME'] == \"Tesla\"])\n",
    "print(df_category.loc[df_company['COMPANY_NAME'] == \"Google\"])\n",
    "\n",
    "# Assuming df_category has a column named 'COMPANY_NAME' to match with df_company\n",
    "tesla_categories = df_category.loc[df_category['COMPANY_NAME'] == \"Tesla\", 'CATEGORY'].tolist()\n",
    "google_categories = df_category.loc[df_category['COMPANY_NAME'] == \"Google\", 'CATEGORY'].tolist()\n",
    "\n",
    "# Print sentences listing the categories for each company\n",
    "print(f\"\\nCategories for Tesla: {', '.join(tesla_categories)}\")\n",
    "print(f\"\\nCategories for Google: {', '.join(google_categories)}\")\n"
   ]
  },
  {
   "cell_type": "markdown",
   "metadata": {},
   "source": [
    "`Funding date for each company`"
   ]
  },
  {
   "cell_type": "code",
   "execution_count": 27,
   "metadata": {},
   "outputs": [
    {
     "name": "stdout",
     "output_type": "stream",
     "text": [
      "The founding date of Tesla is Jan 1, 2003.\n",
      "The founding date of Google is 1998-01-01.\n"
     ]
    }
   ],
   "source": [
    "from dateutil.parser import parse\n",
    "import pandas as pd\n",
    "\n",
    "def get_founding_date(company_name):\n",
    "    row = df_company.loc[df_company[\"COMPANY_NAME\"] == company_name]\n",
    "    if not row.empty:\n",
    "        founded_on = row[\"FOUNDED_ON\"].iloc[0]\n",
    "        if founded_on.isdigit():\n",
    "            return f\"{founded_on}-01-01\"\n",
    "        else:\n",
    "            try:\n",
    "                parse(founded_on)\n",
    "                return founded_on\n",
    "            except ValueError:\n",
    "                return None  # Invalid date format\n",
    "    return None\n",
    "\n",
    "# Example: Get founding date for \"Apollo\"\n",
    "Tesla_founding_date = get_founding_date(\"Tesla\")\n",
    "Google_founding_date = get_founding_date(\"Google\")\n",
    "\n",
    "if Tesla_founding_date:\n",
    "    print(f\"The founding date of Tesla is {Tesla_founding_date}.\")\n",
    "else:\n",
    "    print(\"No founding date found for Tesla.\")\n",
    "\n",
    "if Google_founding_date:\n",
    "    print(f\"The founding date of Google is {Google_founding_date}.\")\n",
    "else:\n",
    "    print(\"No founding date found for Google.\")\n"
   ]
  },
  {
   "cell_type": "markdown",
   "metadata": {},
   "source": [
    "##### The founding date of Tesla is Jan 1, 2003 and the founding date of Google is Jan 1, 1998."
   ]
  },
  {
   "cell_type": "markdown",
   "metadata": {},
   "source": [
    "#### `Investment for Tesla & Google and the comparaison of the mean()`"
   ]
  },
  {
   "cell_type": "code",
   "execution_count": 28,
   "metadata": {},
   "outputs": [
    {
     "name": "stdout",
     "output_type": "stream",
     "text": [
      "Total money raised for Tesla and Google:\n",
      "Tesla: $22,941,467,409.62\n",
      "Google: $63,100,000.00\n"
     ]
    }
   ],
   "source": [
    "\n",
    "# Group by COMPANY_NAME and sum the MONEY_RAISED_CONVERTED for each company\n",
    "total_money_raised_by_company = df_investment.groupby(\"COMPANY_NAME\")[\"MONEY_RAISED_CONVERTED\"].sum()\n",
    "\n",
    "# Filter for Tesla and Google\n",
    "tesla_google_money_raised = total_money_raised_by_company.loc[[\"Tesla\", \"Google\"]]\n",
    "\n",
    "# Print the total money raised for Tesla and Google\n",
    "print(\"Total money raised for Tesla and Google:\")\n",
    "for company, amount in tesla_google_money_raised.items():\n",
    "    print(f\"{company}: ${amount:,.2f}\")\n"
   ]
  },
  {
   "cell_type": "markdown",
   "metadata": {},
   "source": [
    "#### `Acquisition for Tesla & Google and the comparaison of the mean()`"
   ]
  },
  {
   "cell_type": "code",
   "execution_count": 29,
   "metadata": {},
   "outputs": [
    {
     "name": "stdout",
     "output_type": "stream",
     "text": [
      "Mean money raised for other companies: $692,146,906.57\n",
      "Tesla has raised more than the mean.\n",
      "Google has raised less than the mean.\n"
     ]
    }
   ],
   "source": [
    "# Calculate the mean of the entire DataFrame excluding Tesla and Google\n",
    "mean_money_raised_all_companies = total_money_raised_by_company.mean()\n",
    "\n",
    "# Print the mean value\n",
    "print(f\"Mean money raised for other companies: ${mean_money_raised_all_companies:,.2f}\")\n",
    "\n",
    "# Compare the total money raised for Tesla and Google with the mean\n",
    "for company, amount in tesla_google_money_raised.items():\n",
    "    if amount > mean_money_raised_all_companies:\n",
    "        print(f\"{company} has raised more than the mean.\")\n",
    "    elif amount < mean_money_raised_all_companies:\n",
    "        print(f\"{company} has raised less than the mean.\")\n",
    "    else:\n",
    "        print(f\"{company} has raised the same as the mean.\")\n"
   ]
  },
  {
   "cell_type": "markdown",
   "metadata": {},
   "source": [
    "\n",
    "*The displayed results indicate that Google has raised less money from investments compared to the mean of other companies. However, it's important to note that Google, as a part of Alphabet Inc., is a well-established and highly profitable company. Unlike startups or companies in need of significant funding for growth, mature companies like Google may not actively seek or require substantial investment funding.*\n",
    "\n",
    "*There are several `reasons why Google may not raise a lot of money from investment:`*\n",
    "\n",
    "*`Profitability`: Google is a highly profitable company with diverse revenue streams, including advertising, cloud services, and hardware. It may not rely heavily on external investments to fund its operations and expansion.*\n",
    "\n",
    "*`Established Financial Position`: Being part of Alphabet Inc., Google has a strong financial position and may not need external funding for day-to-day operations or strategic initiatives.*\n",
    "\n",
    "*`Limited Need for Capital`: Established companies often generate enough revenue internally to fund their operations, research and development, and other projects. They may not need to seek external capital as aggressively as startups.*\n",
    "\n",
    "*`Strategic Focus`: Google may prioritize organic growth and strategic investments over raising capital through external funding rounds.*\n",
    "\n",
    "*`Risk Management`: Larger companies like Google may prefer to manage their financial risks and avoid dilution of ownership by relying less on external investments.*\n",
    "\n",
    "*It's essential to consider the specific financial strategy and business model of Google when interpreting its funding activities. If you have access to Google's financial reports or official statements, they can provide more insights into the company's financial health and strategy.*\n"
   ]
  },
  {
   "cell_type": "markdown",
   "metadata": {},
   "source": [
    "#### `Mean() number acquisition & mean() value expenses of acquisition compare to the global value of df`"
   ]
  },
  {
   "cell_type": "code",
   "execution_count": 30,
   "metadata": {},
   "outputs": [
    {
     "name": "stdout",
     "output_type": "stream",
     "text": [
      "\n",
      "Mean acquisition price for all companies: $8,615,959,710.51\n",
      "\n",
      "Total acquisition price for Tesla and Google:\n",
      "Tesla: $218,000,000.00\n",
      "Google: $26,952,577,484.07\n",
      "Tesla has an acquisition price lower than the mean.\n",
      "Google has an acquisition price higher than the mean.\n"
     ]
    }
   ],
   "source": [
    "\n",
    "# Group by COMPANY_NAME and sum the PRICE_CONVERTED for each company\n",
    "total_acquisition_price = df_acquisition.groupby(\"COMPANY_NAME\")[\"PRICE_CONVERTED\"].sum()\n",
    "\n",
    "# Filter for Tesla and Google\n",
    "tesla_google_acquisition_price = total_acquisition_price.loc[[\"Tesla\", \"Google\"]]\n",
    "\n",
    "# Calculate the mean acquisition price for all companies\n",
    "mean_acquisition_price_all = total_acquisition_price.mean()\n",
    "\n",
    "# Print the results\n",
    "print(f\"\\nMean acquisition price for all companies: ${mean_acquisition_price_all:,.2f}\")\n",
    "\n",
    "print(\"\\nTotal acquisition price for Tesla and Google:\")\n",
    "for company, amount in tesla_google_acquisition_price.items():\n",
    "    print(f\"{company}: ${amount:,.2f}\")\n",
    "\n",
    "# Compare with the mean acquisition price\n",
    "for company, amount in tesla_google_acquisition_price.items():\n",
    "    if amount > mean_acquisition_price_all:\n",
    "        print(f\"{company} has an acquisition price higher than the mean.\")\n",
    "    elif amount < mean_acquisition_price_all:\n",
    "        print(f\"{company} has an acquisition price lower than the mean.\")\n",
    "    else:\n",
    "        print(f\"{company} has an acquisition price equal to the mean.\")\n",
    "\n"
   ]
  },
  {
   "cell_type": "markdown",
   "metadata": {},
   "source": [
    "* Total money raised for Tesla and Google:\n",
    "* Tesla: $218,000,000.00\n",
    "* Google: $26,952,577,484.07"
   ]
  },
  {
   "cell_type": "markdown",
   "metadata": {},
   "source": [
    "#### `Quality of employees & CEOs for the two companies`"
   ]
  },
  {
   "cell_type": "code",
   "execution_count": 31,
   "metadata": {},
   "outputs": [
    {
     "name": "stdout",
     "output_type": "stream",
     "text": [
      "Employees from top schools for Tesla and Google:\n",
      "\n",
      "Number of employees from top schools for Google: 441\n",
      "\n",
      "Number of employees from top schools for Tesla: 23\n"
     ]
    }
   ],
   "source": [
    "\n",
    "top_schools = ['Harvard Business School', 'Stanford University', 'Massachusetts Institute of Technology', 'Princeton University', 'Yale University', \n",
    "               'Columbia University', 'University of Chicago', 'ESCP EUROPE', 'Boston College', 'Indian Institute of Technology','Imperial College London', 'University of Oxford',\n",
    "               'University College London', 'UCL', 'Berkeley', 'University of Pennsylvania', 'Cornell University', 'Melbourne University', 'Warwick Business School', '']\n",
    "\n",
    "# Function to match school names using fuzzywuzzy\n",
    "def match_school(school_name):\n",
    "    if pd.isna(school_name):  # Check for NaN values\n",
    "        return None\n",
    "    return process.extractOne(str(school_name), top_schools)\n",
    "\n",
    "\n",
    "df_employee['matched_school'] = df_employee['ATTENDED_SCHOOLS'].apply(match_school)\n",
    "\n",
    "# Filter rows where the match score is above a certain threshold \n",
    "threshold = 60\n",
    "df_filtered = df_employee[df_employee['matched_school'].apply(lambda x: x[1] >= threshold if x is not None else False)]\n",
    "\n",
    "# Group employees by company and aggregate school names\n",
    "employees_grouped = df_filtered.groupby('COMPANY_NAME').agg({\n",
    "    'EMPLOYEE_MD5': 'count',\n",
    "    'ATTENDED_SCHOOLS': lambda x: ', '.join(x)  # Combine multiple school names\n",
    "}).reset_index()\n",
    "\n",
    "\n",
    "employees_grouped.columns = ['COMPANY_NAME', 'EMPLOYEE_COUNT', 'ATTENDED_SCHOOLS']\n",
    "\n",
    "# Filter employees from top schools for Tesla and Google\n",
    "employees_tesla_google = employees_grouped[employees_grouped['COMPANY_NAME'].isin(['Tesla', 'Google'])]\n",
    "\n",
    "# Print the result for Tesla and Google\n",
    "print(\"Employees from top schools for Tesla and Google:\")\n",
    "employees_tesla_google\n",
    "\n",
    "for company in ['Google', 'Tesla']:\n",
    "    employees_count = employees_tesla_google.loc[employees_tesla_google['COMPANY_NAME'] == company, 'EMPLOYEE_COUNT'].values\n",
    "    if len(employees_count) > 0:\n",
    "        print(f\"\\nNumber of employees from top schools for {company}: {employees_count[0]}\")\n",
    "    else:\n",
    "        print(f\"\\nNo data available for {company}.\")\n",
    "\n"
   ]
  },
  {
   "cell_type": "markdown",
   "metadata": {},
   "source": [
    "#### After comparing the two successful companies Tesla & Google as closely as possible in our Dataset analysis. We can conclude, at the end of this project, `the common points` of a successful company.\n",
    "#### First of all, we've noticed that it's more interesting to be part of the `most popular business sectors` on the market today `(software, internet, information technology, enterprise software & mobile)`.\n",
    "#### Secondly, `investing is often a good springboard for a company to build up assets` that will enable it to grow progressively richer over the long term. Our study shows that Google hasn't made many investments. This is due to the fact that, from the outset, Google has had a monopoly on its market, a higher profitability and a more different strategy.\n",
    "#### Indeed, compared with Tesla and other companies, `Google has an aggressive acquisition strategy, enabling it to increase its monopoly and diversify its strategies and revenues`\n",
    "#### Finally, we can see that Google, unlike Tesla, selects `top-quality employees from the best schools`.\n",
    "\n"
   ]
  }
 ],
 "metadata": {
  "kernelspec": {
   "display_name": "Python 3 (ipykernel)",
   "language": "python",
   "name": "python3"
  },
  "language_info": {
   "codemirror_mode": {
    "name": "ipython",
    "version": 3
   },
   "file_extension": ".py",
   "mimetype": "text/x-python",
   "name": "python",
   "nbconvert_exporter": "python",
   "pygments_lexer": "ipython3",
   "version": "3.10.11"
  }
 },
 "nbformat": 4,
 "nbformat_minor": 4
}
